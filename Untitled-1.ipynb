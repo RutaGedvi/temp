{
 "cells": [
  {
   "cell_type": "code",
   "execution_count": null,
   "id": "16c88d5e",
   "metadata": {},
   "outputs": [],
   "source": [
    "import numpy as np\n",
    "import matplotlib.pyplot as plt"
   ]
  },
  {
   "cell_type": "markdown",
   "id": "64d4b08d",
   "metadata": {},
   "source": [
    "KKAKAKA"
   ]
  }
 ],
 "metadata": {
  "language_info": {
   "name": "python"
  }
 },
 "nbformat": 4,
 "nbformat_minor": 5
}
